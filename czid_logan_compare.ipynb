{
 "cells": [
  {
   "cell_type": "code",
   "execution_count": null,
   "id": "50420155",
   "metadata": {},
   "outputs": [],
   "source": [
    "#count no of unmapped reads that did not map to any taxa -czid"
   ]
  },
  {
   "cell_type": "code",
   "execution_count": 1,
   "id": "413e0efd",
   "metadata": {},
   "outputs": [
    {
     "name": "stdout",
     "output_type": "stream",
     "text": [
      "Number of reads in the FASTA file: 82399\n"
     ]
    }
   ],
   "source": [
    "def count_reads_in_fasta(fasta_file):\n",
    "    count = 0\n",
    "    with open(fasta_file, 'r') as file:\n",
    "        for line in file:\n",
    "            if line.startswith('>'):\n",
    "                count += 1\n",
    "    return count\n",
    "\n",
    "fasta_file = r'C:\\Users\\ssathees\\OneDrive - Fred Hutchinson Cancer Research Center\\Downloads\\dogagingproject_10261\\SRR21770626_repaired_582503_unmapped.fasta'\n",
    "read_count = count_reads_in_fasta(fasta_file)\n",
    "print(f\"Number of reads in the FASTA file: {read_count}\")\n"
   ]
  },
  {
   "cell_type": "code",
   "execution_count": null,
   "id": "97e21606",
   "metadata": {},
   "outputs": [],
   "source": []
  }
 ],
 "metadata": {
  "kernelspec": {
   "display_name": "Python 3 (ipykernel)",
   "language": "python",
   "name": "python3"
  },
  "language_info": {
   "codemirror_mode": {
    "name": "ipython",
    "version": 3
   },
   "file_extension": ".py",
   "mimetype": "text/x-python",
   "name": "python",
   "nbconvert_exporter": "python",
   "pygments_lexer": "ipython3",
   "version": "3.9.13"
  }
 },
 "nbformat": 4,
 "nbformat_minor": 5
}
